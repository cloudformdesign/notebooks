{
 "metadata": {
  "name": "",
  "signature": "sha256:215c77f28d88596791d27fa269a9ad4f525491548798975b776ac979efee4701"
 },
 "nbformat": 3,
 "nbformat_minor": 0,
 "worksheets": [
  {
   "cells": [
    {
     "cell_type": "markdown",
     "metadata": {},
     "source": [
      "# [Cython Tutorial from SciPy](http://conference.scipy.org/proceedings/SciPy2009/paper_1/full_text.pdf)\n",
      "\n",
      "Cython code is typically written in `*.pyx` files and compiled three ways:\n",
      "- By using pyximport, which imports Cython .pyx files as if they were .py files (compilation happens in the background)\n",
      "- Running the cython command line utility (not recomended)\n",
      "- Distributing in setup.py\n",
      "- Writing code in ipython notebook with the `%%cython` magic\n",
      "\n",
      "Let's start by showing what's possible."
     ]
    },
    {
     "cell_type": "code",
     "collapsed": false,
     "input": [
      "%load_ext cythonmagic"
     ],
     "language": "python",
     "metadata": {},
     "outputs": [],
     "prompt_number": 1
    },
    {
     "cell_type": "code",
     "collapsed": false,
     "input": [
      "from math import sin\n",
      "def f(x):\n",
      "    return sin(x**2)\n",
      "\n",
      "def py_integrate_f(a, b, N):\n",
      "    s = 0\n",
      "    dx = (b-a)/N\n",
      "    for i in range(N):\n",
      "        s += f(a+i*dx)\n",
      "    return s * dx"
     ],
     "language": "python",
     "metadata": {},
     "outputs": [],
     "prompt_number": 2
    },
    {
     "cell_type": "code",
     "collapsed": false,
     "input": [
      "%%cython\n",
      "from math import sin\n",
      "\n",
      "def slow_f(x):\n",
      "    return sin(x**2)\n",
      "\n",
      "def slow_integrate_f(a, b, N):\n",
      "    s = 0\n",
      "    dx = (b-a)/N\n",
      "    for i in range(N):\n",
      "        s += slow_f(a+i*dx)\n",
      "    return s * dx"
     ],
     "language": "python",
     "metadata": {},
     "outputs": [],
     "prompt_number": 3
    },
    {
     "cell_type": "code",
     "collapsed": false,
     "input": [
      "%%cython\n",
      "\n",
      "''' Load an external library. Cython does not parse math.h, so you have to define it\n",
      "yourself. It is important to note that the library has to be properly linked, see\n",
      "comments in next block\n",
      "'''\n",
      "cdef extern from \"math.h\":\n",
      "    double sin(double)\n",
      "\n",
      "# cdef. Faster from cython code, not available in python space anymore\n",
      "cdef double fast_f(double x) except *:  # except * allows exceptions to be propogated\n",
      "    return sin(x**2)\n",
      "\n",
      "# cpdef allows for fast calls from cython AND availability in python\n",
      "cpdef fast_integrate_f(double a, double b, int N):\n",
      "    cdef int i\n",
      "    cdef double s, dx\n",
      "    s = 0\n",
      "    dx = (b-a)/N\n",
      "    for i in range(N):\n",
      "        s += fast_f(a+i*dx)\n",
      "    return s * dx"
     ],
     "language": "python",
     "metadata": {},
     "outputs": [],
     "prompt_number": 5
    },
    {
     "cell_type": "code",
     "collapsed": false,
     "input": [
      "args = 0, 1, 10000\n",
      "print(\"python\")\n",
      "%timeit py_integrate_f(*args)\n",
      "print(\"slow cython\")\n",
      "%timeit slow_integrate_f(*args)\n",
      "print(\"fast cython\")\n",
      "%timeit fast_integrate_f(*args)"
     ],
     "language": "python",
     "metadata": {},
     "outputs": [
      {
       "output_type": "stream",
       "stream": "stdout",
       "text": [
        "python\n",
        "100 loops, best of 3: 4.5 ms per loop"
       ]
      },
      {
       "output_type": "stream",
       "stream": "stdout",
       "text": [
        "\n",
        "slow cython\n",
        "100 loops, best of 3: 2.87 ms per loop"
       ]
      },
      {
       "output_type": "stream",
       "stream": "stdout",
       "text": [
        "\n",
        "fast cython\n",
        "10000 loops, best of 3: 100 \u00b5s per loop"
       ]
      },
      {
       "output_type": "stream",
       "stream": "stdout",
       "text": [
        "\n"
       ]
      }
     ],
     "prompt_number": 6
    },
    {
     "cell_type": "markdown",
     "metadata": {},
     "source": [
      "Using C libraries can be a tricky buisness because of linking issues. We will discuss it later,\n",
      "but on linux and mac a distilius setup.py script could look like:\n",
      "\n",
      "```\n",
      "from distutils.core import setup\n",
      "from distutils.extension import Extension\n",
      "from Cython.Distutils import build_ext\n",
      "ext_modules=[\n",
      "    Extension(\"demo\", [\"demo.pyx\"], libraries=[\"m\"]) # Unix-like specific\n",
      "]\n",
      "setup(\n",
      "    name = \"Demos\",\n",
      "    cmdclass = {\"build_ext\": build_ext},\n",
      "    ext_modules = ext_modules\n",
      ")\n",
      "```"
     ]
    },
    {
     "cell_type": "markdown",
     "metadata": {},
     "source": [
      "# Writing Classes\n",
      "Cython supports writing classes exactly as in writing them in Python\n",
      "These are based on what Python calls it's \"built-in type\". However,\n",
      "Cython also supports `cdef` classes.\n",
      "\n",
      "`cdef` classes are more restricted than Python classes but they are\n",
      "also more memory efficient and faster. The main difference is that\n",
      "they use a C struct to store their fields and methods instead of a Python\n",
      "dict.\n",
      "\n",
      "In additon, normal python classes can inherit from `cdef` classes, but\n",
      "not the other way around."
     ]
    },
    {
     "cell_type": "code",
     "collapsed": false,
     "input": [
      "%%cython\n",
      "\n",
      "cdef extern from \"math.h\":\n",
      "    double sin(double)\n",
      "\n",
      "# Placeholder to inherit from\n",
      "cdef class Function:\n",
      "    cpdef double evaluate(self, double x) except *:\n",
      "        return 0\n",
      "\n",
      "# show inheritance\n",
      "cdef class SinOfSquareFunction(Function):  \n",
      "    cpdef double evaluate(self, double x) except *:\n",
      "        return sin(x**2)\n",
      "    \n",
      "# Integrate now changes to use a general function\n",
      "def class_integrate_f(Function f, double a, double b, int N):\n",
      "    cdef int i\n",
      "    cdef double s, dx\n",
      "    if f is None:\n",
      "        raise ValueError(\"f cannot be None\")\n",
      "    s = 0\n",
      "    dx = (b-a)/N\n",
      "    for i in range(N):\n",
      "        s += f.evaluate(a+i*dx)\n",
      "    return s * dx"
     ],
     "language": "python",
     "metadata": {},
     "outputs": [],
     "prompt_number": 15
    },
    {
     "cell_type": "code",
     "collapsed": false,
     "input": [
      "print(\"class cython\")\n",
      "%timeit class_integrate_f(SinOfSquareFunction(), *args)"
     ],
     "language": "python",
     "metadata": {},
     "outputs": [
      {
       "output_type": "stream",
       "stream": "stdout",
       "text": [
        "class cython\n",
        "10000 loops, best of 3: 126 \u00b5s per loop"
       ]
      },
      {
       "output_type": "stream",
       "stream": "stdout",
       "text": [
        "\n"
       ]
      }
     ],
     "prompt_number": 21
    },
    {
     "cell_type": "code",
     "collapsed": false,
     "input": [],
     "language": "python",
     "metadata": {},
     "outputs": []
    }
   ],
   "metadata": {}
  }
 ]
}