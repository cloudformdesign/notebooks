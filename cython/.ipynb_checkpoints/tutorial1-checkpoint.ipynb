{
 "metadata": {
  "name": "",
  "signature": "sha256:2698fae01c9c85c0a145514a080efc20995cd29af52132487b5951c6aeaec1e9"
 },
 "nbformat": 3,
 "nbformat_minor": 0,
 "worksheets": []
}